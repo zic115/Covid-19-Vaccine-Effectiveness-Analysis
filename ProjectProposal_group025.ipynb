{
 "cells": [
  {
   "cell_type": "markdown",
   "metadata": {},
   "source": [
    "# COGS 108 - Final Project Proposal"
   ]
  },
  {
   "cell_type": "markdown",
   "metadata": {},
   "source": [
    "# Names\n",
    "\n",
    "- Feifan Li\n",
    "- Kexin Cheng\n",
    "- Kesin Chang\n",
    "- Ziyue Chen"
   ]
  },
  {
   "cell_type": "markdown",
   "metadata": {},
   "source": [
    "# Research Question"
   ]
  },
  {
   "cell_type": "markdown",
   "metadata": {},
   "source": [
    "Does the number of people vaccinated in different countries have an effect on the number of new confirmed cases of COVID-19 of those countries?"
   ]
  },
  {
   "cell_type": "markdown",
   "metadata": {},
   "source": [
    "## Background and Prior Work"
   ]
  },
  {
   "cell_type": "markdown",
   "metadata": {},
   "source": [
    "<p>COVID-19, an infectious coronavirus disease, has spread throughout the whole world in a short amount of time since the end of 2019 and led to an ongoing pandemic. It significantly influenced all aspects of people's daily life. As of 1/29/2021, more than a hundred million people in the world have been infected with the virus, and more than two million of them have died from it. In order to solve this problem, scientists, businesses, and global health organizations are working together to try to find a vaccine that will be safe and effective against the virus. So far, a lot of vaccines have been reported to be effective and open to the public for vaccinating. According to the statistics provided, the vaccine from both China and the USA has an 80% chance to prevent infection.</p>\n",
    "\n",
    "<p>As it is commonly known, COVID-19 has mainly spread through community transmission. Therefore, it will be necessary for governments to set restrictions in order to slow the speed of spreading. For example, California State Government gave the Stay Home Order in March 2020 that required the citizens to stay at home unless it was for essential jobs or needs. They also issued a requirement to wear a mask in public spaces. While these restrictions helped the speed of spreading to be slower, it also caused chaos and dissatisfactions among the citizens as some of them felt their freedom was deprived. Hence, our team wonders whether there could be an alternative solution that could satisfy these people while slowing the spread? Therefore, we formulate a hypothesis that, if more people inside the country can get the vaccine, it may inhibit the rapid spread of the virus. </p>\n",
    "\n",
    "\n",
    "References (include links):\n",
    "- 1) https://www.scmp.com/news/hong-kong/health-environment/article/3115925/covid-19-vaccines-hong-kong-how-soon-will-shots\n",
    "- 2) https://www.who.int/emergencies/diseases/novel-coronavirus-2019/covid-19-vaccines\n",
    "- 3) https://covid19.ca.gov/stay-home-except-for-essential-needs/"
   ]
  },
  {
   "cell_type": "markdown",
   "metadata": {},
   "source": [
    "\n",
    "\n"
   ]
  },
  {
   "cell_type": "markdown",
   "metadata": {},
   "source": [
    "# Hypothesis\n"
   ]
  },
  {
   "cell_type": "markdown",
   "metadata": {},
   "source": [
    "Our hypothesis is that the countries that have more people vaccinated will have a smaller number of COVID-19 new confirmed cases, comparing to the countries which have fewer number of people vaccinated or the countries which do not have vaccinaition. The number of people vaccinated of countries and the number of new confirmed cases of those countries have negative relationship. \n",
    "\n",
    "We chose this hypothesis because the current vaccines have proven to be useful and thus should be effective in controlling the current condition. As more people are vaccinated, the possibility of viruses spreading widely is expected to be reduced."
   ]
  },
  {
   "cell_type": "markdown",
   "metadata": {},
   "source": [
    "# Data"
   ]
  },
  {
   "cell_type": "markdown",
   "metadata": {},
   "source": [
    "*Explain what the ideal dataset you would want to answer this question. (This should include: What variables? How many observations? Who/what/how would these data be collected? How would these data be stored/organized?)*\n",
    "\n",
    "<h5> Vaccination Rate </h5>\n",
    "\n",
    "<ol> https://github.com/owid/covid-19-data/blob/master/public/data/vaccinations/vaccinations.csv <br> </ol>\n",
    "\n",
    "<ol> 1738 observations till 1/28/2021 <br> </ol>\n",
    "\n",
    "<ol> The variables are location, number of people get vaccines, daily people get vaccines etc.</ol>\n",
    "\n",
    "<ol> Collected by WWO, Stored in csv</ol>\n",
    "\n",
    "<h5> World Data </h5>\n",
    "\n",
    "<ol> https://github.com/owid/covid-19-data/blob/master/public/data/latest/owid-covid-latest.csv <br> </ol>\n",
    "\n",
    "<ol> 194 observations till 1/28/2021 <br> </ol>\n",
    "\n",
    "<ol> The variables are country, total cases, new cases, total death, new death etc.</ol>\n",
    "\n",
    "<ol> Collected by Johns Hopkins University, Stored in csv</ol>\n",
    "\n",
    "<h5> Weekly Data </h5>\n",
    "\n",
    "<ol> https://github.com/owid/covid-19-data/blob/master/public/data/jhu/biweekly_cases.csv <br> </ol>\n",
    "\n",
    "<ol> 371 observations till 1/28/2021 <br> </ol>\n",
    "\n",
    "<ol> The variables are country name and the date.</ol>\n",
    "\n",
    "<ol> Collected by Johns Hopkins University, Stored in csv</ol>"
   ]
  },
  {
   "cell_type": "markdown",
   "metadata": {},
   "source": [
    "# Ethics & Privacy"
   ]
  },
  {
   "cell_type": "markdown",
   "metadata": {},
   "source": [
    "In this project, three sets of data are collected, all of which are made public on Github to encourage usage for either research or personal purposes. The csv files are open to download and any suggestions that can improve their accuracy and completeness. \n",
    "\n",
    "In the Vaccination Rate dataset, only state names, date, and relevant statistics such as total vaccinations available and number of people vaccinated were revealed. Personal information such as name, gender, and address were not shown, so anonymization was implemented and there should be no privacy issues. Similarly, the World Data and the Weekly Data datasets both revealed only statistics for the current COVID-19 conditions and contained no private information that could allow users to identify certain individual being infected. \n",
    "\n",
    "Since the data are collected by WWO and Johns Hopkins University as a continuous update on the COVID-19 conditions and are simply objective types of data including state names and numerical values, we expected them to be unbiased. \n",
    "\n",
    "At this point of the project, the data have not been analyzed, but all group members are determined to use the data appropriately, with respect, and with minimized bias when the actual analysis starts. During the analysis, we will clearly explain each step to ensure understanding from the readers. Whenever a conclusion is drawn from the analysis, we will discuss its implications and brainstorm any potential negative consequences before making this conclusion public."
   ]
  },
  {
   "cell_type": "markdown",
   "metadata": {},
   "source": [
    "# Team Expectations "
   ]
  },
  {
   "cell_type": "markdown",
   "metadata": {},
   "source": [
    "* Use data to test our hypothesis, the relationship between the number of vaccined people and the number of confirmed cases, through data visualization to see the comparison between countries, use data analysis to analyze whether or not vaccination is a good choice for individuals and a whole country. \n",
    "* If there is member who is not contributing/non-cooperative, then we will first give them a warning. If the situation is still the same, then we will notify the Professor.\n",
    "* Have a meeting at least once every week to discuss the project and make sure everyone is on the same page.\n",
    "* Every member should contribute an equal amount of work to the project.\n",
    "* Do not procrastinate, complete on time to keep the project process smoothly.\n",
    "* Be honest while being respectful, listen to everyone's opinion. \n",
    "* Be responsive to the group chat, at least check it once a day."
   ]
  },
  {
   "cell_type": "markdown",
   "metadata": {},
   "source": [
    "# Project Timeline Proposal"
   ]
  },
  {
   "cell_type": "markdown",
   "metadata": {},
   "source": [
    "| Meeting Date  | Meeting Time| Completed Before Meeting  | Discuss at Meeting |\n",
    "|---|---|---|---|\n",
    "| 1/14  | 6 PM  | Form a group of four | Edit, finalize, and submit Project Planning Survey (Due 1/15 11:59pm) |\n",
    "| 1/21  | 6 PM  | Review the assigned previous project | Edit, finalize, and submit Previous Project Review (Due 1/22 11:59pm) |\n",
    "| 1/28  |  6 PM | Read & Think about COGS 108 expectations; brainstorm topics/questions/hypothesis; Do background and dataset research; Begin drafting the project proposal; | Edit, finalize, and submit Project Proposal (Due 1/29 11:59pm) | \n",
    "| 2/4  | 6 PM  | Explore the datasets; Think about possible wrangling & analysis approaches | Discuss the approaches; Assign group members to lead each specific part |\n",
    "| 2/11  | 6 PM  | Begin data wrangling | Address any issues encountered; Edit, finalize, and submit Checkpoint #1: Data (Due 2/12 11:59pm) |\n",
    "| 2/18  | 6 PM  | Begin data analysis & results| Address any issues encountered |\n",
    "| 2/25  | 6 PM  | Continue data analysis & results; Begin drafting conclusions/discussions | Address any issues encountered; Edit, finalize, and submit Checkpoint #2: EDA (Due 2/26 11:59pm) |\n",
    "| 3/4  | 6 PM  | Continue drafting conclusions/discussions | Address any issues encountered; Discuss improvements; Plan video recording |\n",
    "| 3/11  | 6 PM  | Prepare scripts for the final video | Record the final video |\n",
    "| 3/14  | 6 PM  | Check everything  | Edit, finalize, and submit Final Report, Final Video, and Team Evaluation (Due 3/17 11:59pm) |"
   ]
  }
 ],
 "metadata": {
  "kernelspec": {
   "display_name": "Python 3",
   "language": "python",
   "name": "python3"
  },
  "language_info": {
   "codemirror_mode": {
    "name": "ipython",
    "version": 3
   },
   "file_extension": ".py",
   "mimetype": "text/x-python",
   "name": "python",
   "nbconvert_exporter": "python",
   "pygments_lexer": "ipython3",
   "version": "3.7.6"
  }
 },
 "nbformat": 4,
 "nbformat_minor": 2
}
