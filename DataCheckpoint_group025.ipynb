{
 "cells": [
  {
   "cell_type": "markdown",
   "metadata": {},
   "source": [
    "# COGS 108 - Data Checkpoint"
   ]
  },
  {
   "cell_type": "markdown",
   "metadata": {},
   "source": [
    "# Names\n",
    "\n",
    "- Feifan Li\n",
    "- Kexin Cheng\n",
    "- Kesin Chang\n",
    "- Ziyue Chen"
   ]
  },
  {
   "cell_type": "markdown",
   "metadata": {},
   "source": [
    "<a id='research_question'></a>\n",
    "# Research Question"
   ]
  },
  {
   "cell_type": "markdown",
   "metadata": {},
   "source": [
    "Does the number of people vaccinated in different countries have an effect on the number of new confirmed cases of COVID-19 of those countries?"
   ]
  },
  {
   "cell_type": "markdown",
   "metadata": {},
   "source": [
    "# Dataset(s)"
   ]
  },
  {
   "cell_type": "markdown",
   "metadata": {},
   "source": [
    "<h5> Vaccination Rate </h5>\n",
    "\n",
    "<ol> https://github.com/owid/covid-19-data/blob/master/public/data/vaccinations/vaccinations.csv <br> </ol>\n",
    "\n",
    "<ol> 1738 observations from 2020/12/13 till 2/3/2021 <br> </ol>\n",
    "\n",
    "<ol> The variables are location, number of people get vaccines, daily people get vaccines etc. This dataset basically collects people from different countries get vaccined over time</ol>\n",
    "\n",
    "<ol> Collected by WWO, Stored in csv</ol>\n",
    "\n",
    "<h5> World New Cases Data </h5>\n",
    "\n",
    "<ol> https://github.com/owid/covid-19-data/blob/master/public/data/jhu/new_cases.csv <br> </ol>\n",
    "\n",
    "<ol> 386 observations till 02/10/2021 <br> </ol>\n",
    "\n",
    "<ol> The variables are date, total new cases around the world, and new cases broken down by 198 countries</ol>\n",
    "\n",
    "<ol> Collected by Johns Hopkins University, Stored in csv</ol>\n",
    "\n",
    "<h5> Weekly Data </h5>\n",
    "\n",
    "<ol> https://github.com/owid/covid-19-data/blob/master/public/data/jhu/biweekly_cases.csv <br> </ol>\n",
    "\n",
    "<ol> 371 observations till 1/28/2021 <br> </ol>\n",
    "\n",
    "<ol> The variables are country name and the date.</ol>\n",
    "\n",
    "<ol> Collected by Johns Hopkins University, Stored in csv</ol>"
   ]
  },
  {
   "cell_type": "markdown",
   "metadata": {},
   "source": [
    "# Setup"
   ]
  },
  {
   "cell_type": "code",
   "execution_count": 5,
   "metadata": {},
   "outputs": [],
   "source": [
    "# import library\n",
    "import numpy as np\n",
    "import pandas as pd\n",
    "import seaborn as sns\n",
    "import matplotlib.pyplot as plt\n",
    "\n",
    "# improve resolution\n",
    "%config InlineBackend.figure_format ='retina'"
   ]
  },
  {
   "cell_type": "markdown",
   "metadata": {},
   "source": [
    "# Data Cleaning"
   ]
  },
  {
   "cell_type": "markdown",
   "metadata": {},
   "source": [
    "## Vaccination Rate\n",
    "For this data set, we need drop a few columns that we will not use for this project like raw vaccinations rate or vaccinations rate per-million.And since we want to use country's full name instead of abbreviation, we also drop the 'iso_code' column. After that, in some small countries, they provide limited amounts of data (many missing values), which may negatively influence our data interpretation. Hence, we decide to remove those countries from the dataset. At last, in order to make sure readers can have better understanding of the data, we rename some columns to be more concise and straightforward."
   ]
  },
  {
   "cell_type": "code",
   "execution_count": 10,
   "metadata": {},
   "outputs": [],
   "source": [
    "# reading data from the database\n",
    "df = pd.read_csv('https://raw.githubusercontent.com/owid/covid-19-data/master/public/data/vaccinations/vaccinations.csv')\n",
    "\n",
    "# drop columns that we will not use from this project\n",
    "df = df.drop(columns = ['daily_vaccinations_raw','daily_vaccinations_per_million'],axis=1)\n",
    "\n",
    "# we decide to use country full name instead of abbreviation\n",
    "df = df.drop(columns = ['iso_code'],axis=1)"
   ]
  },
  {
   "cell_type": "code",
   "execution_count": 11,
   "metadata": {},
   "outputs": [],
   "source": [
    "# we drop some countries because the statistics about their countries are nearly none, which will create many Nah data points\n",
    "df = df.drop(df[df['location'] == 'Algeria'].index)\n",
    "df = df.drop(df[df['location'] == 'Argentina'].index)\n",
    "df = df.drop(df[df['location'] == 'Andorra'].index)\n",
    "df = df.drop(df[df['location'] == 'Bermuda'].index)\n",
    "df = df.drop(df[df['location'] == 'Iceland'].index)\n",
    "df = df.drop(df[df['location'] == 'Kuwait'].index)\n",
    "df = df.drop(df[df['location'] == 'Monaco'].index)\n",
    "df = df.drop(df[df['location'] == 'Switzerland'].index)\n",
    "df = df.drop(df[df['location'] == 'Ireland'].index)\n",
    "\n",
    "# reset the index\n",
    "df = df.reset_index()\n",
    "df = df.drop(columns = ['index'])"
   ]
  },
  {
   "cell_type": "code",
   "execution_count": 12,
   "metadata": {},
   "outputs": [],
   "source": [
    "# rename the columsn for better interpretation\n",
    "df = df.rename(columns = {'location':'Country','date':'Date','people_vaccinated':'Vaccinated','daily_vaccinations':'Daily_vaccinations',\n",
    "                         'total_vaccinations_per_hundred':'Total_vaccinations_per_hundred','people_vaccinated_per_hundred':'People_vaccinated_per_hundred',\n",
    "                         'people_fully_vaccinated_per_hundred':'People_fully_vaccinated_per_hundred','total_vaccinations':'Total_vaccinations',\n",
    "                         'people_fully_vaccinated':'People_fully_vaccinated'})\n",
    "\n",
    "# rearrange the columns order\n",
    "df = df[['Country','Date','Daily_vaccinations','Vaccinated','People_fully_vaccinated','Total_vaccinations','Total_vaccinations_per_hundred',\n",
    "        'People_vaccinated_per_hundred','People_fully_vaccinated_per_hundred']]"
   ]
  },
  {
   "cell_type": "code",
   "execution_count": 13,
   "metadata": {},
   "outputs": [
    {
     "output_type": "execute_result",
     "data": {
      "text/plain": [
       "      Country        Date  Daily_vaccinations  Vaccinated  \\\n",
       "0     Albania  2021-01-10                 NaN         0.0   \n",
       "1     Albania  2021-01-11                64.0         NaN   \n",
       "2     Albania  2021-01-12                64.0       128.0   \n",
       "3     Albania  2021-01-13                63.0       188.0   \n",
       "4     Albania  2021-01-14                66.0       266.0   \n",
       "...       ...         ...                 ...         ...   \n",
       "2746    World  2021-02-07           4692143.0  69116904.0   \n",
       "2747    World  2021-02-08           4716746.0  70736444.0   \n",
       "2748    World  2021-02-09           6177076.0  72745925.0   \n",
       "2749    World  2021-02-10           5732324.0  76677798.0   \n",
       "2750    World  2021-02-11           5614434.0  78634201.0   \n",
       "\n",
       "      People_fully_vaccinated  Total_vaccinations  \\\n",
       "0                         NaN                 0.0   \n",
       "1                         NaN                 NaN   \n",
       "2                         NaN               128.0   \n",
       "3                         NaN               188.0   \n",
       "4                         NaN               266.0   \n",
       "...                       ...                 ...   \n",
       "2746               17647686.0         132456610.0   \n",
       "2747               18425771.0         135681849.0   \n",
       "2748               19284261.0         148460949.0   \n",
       "2749               22176101.0         156129400.0   \n",
       "2750               23377619.0         160070774.0   \n",
       "\n",
       "      Total_vaccinations_per_hundred  People_vaccinated_per_hundred  \\\n",
       "0                               0.00                           0.00   \n",
       "1                                NaN                            NaN   \n",
       "2                               0.00                           0.00   \n",
       "3                               0.01                           0.01   \n",
       "4                               0.01                           0.01   \n",
       "...                              ...                            ...   \n",
       "2746                            1.70                           0.89   \n",
       "2747                            1.74                           0.91   \n",
       "2748                            1.90                           0.93   \n",
       "2749                            2.00                           0.98   \n",
       "2750                            2.05                           1.01   \n",
       "\n",
       "      People_fully_vaccinated_per_hundred  \n",
       "0                                     NaN  \n",
       "1                                     NaN  \n",
       "2                                     NaN  \n",
       "3                                     NaN  \n",
       "4                                     NaN  \n",
       "...                                   ...  \n",
       "2746                                 0.23  \n",
       "2747                                 0.24  \n",
       "2748                                 0.25  \n",
       "2749                                 0.28  \n",
       "2750                                 0.30  \n",
       "\n",
       "[2751 rows x 9 columns]"
      ],
      "text/html": "<div>\n<style scoped>\n    .dataframe tbody tr th:only-of-type {\n        vertical-align: middle;\n    }\n\n    .dataframe tbody tr th {\n        vertical-align: top;\n    }\n\n    .dataframe thead th {\n        text-align: right;\n    }\n</style>\n<table border=\"1\" class=\"dataframe\">\n  <thead>\n    <tr style=\"text-align: right;\">\n      <th></th>\n      <th>Country</th>\n      <th>Date</th>\n      <th>Daily_vaccinations</th>\n      <th>Vaccinated</th>\n      <th>People_fully_vaccinated</th>\n      <th>Total_vaccinations</th>\n      <th>Total_vaccinations_per_hundred</th>\n      <th>People_vaccinated_per_hundred</th>\n      <th>People_fully_vaccinated_per_hundred</th>\n    </tr>\n  </thead>\n  <tbody>\n    <tr>\n      <th>0</th>\n      <td>Albania</td>\n      <td>2021-01-10</td>\n      <td>NaN</td>\n      <td>0.0</td>\n      <td>NaN</td>\n      <td>0.0</td>\n      <td>0.00</td>\n      <td>0.00</td>\n      <td>NaN</td>\n    </tr>\n    <tr>\n      <th>1</th>\n      <td>Albania</td>\n      <td>2021-01-11</td>\n      <td>64.0</td>\n      <td>NaN</td>\n      <td>NaN</td>\n      <td>NaN</td>\n      <td>NaN</td>\n      <td>NaN</td>\n      <td>NaN</td>\n    </tr>\n    <tr>\n      <th>2</th>\n      <td>Albania</td>\n      <td>2021-01-12</td>\n      <td>64.0</td>\n      <td>128.0</td>\n      <td>NaN</td>\n      <td>128.0</td>\n      <td>0.00</td>\n      <td>0.00</td>\n      <td>NaN</td>\n    </tr>\n    <tr>\n      <th>3</th>\n      <td>Albania</td>\n      <td>2021-01-13</td>\n      <td>63.0</td>\n      <td>188.0</td>\n      <td>NaN</td>\n      <td>188.0</td>\n      <td>0.01</td>\n      <td>0.01</td>\n      <td>NaN</td>\n    </tr>\n    <tr>\n      <th>4</th>\n      <td>Albania</td>\n      <td>2021-01-14</td>\n      <td>66.0</td>\n      <td>266.0</td>\n      <td>NaN</td>\n      <td>266.0</td>\n      <td>0.01</td>\n      <td>0.01</td>\n      <td>NaN</td>\n    </tr>\n    <tr>\n      <th>...</th>\n      <td>...</td>\n      <td>...</td>\n      <td>...</td>\n      <td>...</td>\n      <td>...</td>\n      <td>...</td>\n      <td>...</td>\n      <td>...</td>\n      <td>...</td>\n    </tr>\n    <tr>\n      <th>2746</th>\n      <td>World</td>\n      <td>2021-02-07</td>\n      <td>4692143.0</td>\n      <td>69116904.0</td>\n      <td>17647686.0</td>\n      <td>132456610.0</td>\n      <td>1.70</td>\n      <td>0.89</td>\n      <td>0.23</td>\n    </tr>\n    <tr>\n      <th>2747</th>\n      <td>World</td>\n      <td>2021-02-08</td>\n      <td>4716746.0</td>\n      <td>70736444.0</td>\n      <td>18425771.0</td>\n      <td>135681849.0</td>\n      <td>1.74</td>\n      <td>0.91</td>\n      <td>0.24</td>\n    </tr>\n    <tr>\n      <th>2748</th>\n      <td>World</td>\n      <td>2021-02-09</td>\n      <td>6177076.0</td>\n      <td>72745925.0</td>\n      <td>19284261.0</td>\n      <td>148460949.0</td>\n      <td>1.90</td>\n      <td>0.93</td>\n      <td>0.25</td>\n    </tr>\n    <tr>\n      <th>2749</th>\n      <td>World</td>\n      <td>2021-02-10</td>\n      <td>5732324.0</td>\n      <td>76677798.0</td>\n      <td>22176101.0</td>\n      <td>156129400.0</td>\n      <td>2.00</td>\n      <td>0.98</td>\n      <td>0.28</td>\n    </tr>\n    <tr>\n      <th>2750</th>\n      <td>World</td>\n      <td>2021-02-11</td>\n      <td>5614434.0</td>\n      <td>78634201.0</td>\n      <td>23377619.0</td>\n      <td>160070774.0</td>\n      <td>2.05</td>\n      <td>1.01</td>\n      <td>0.30</td>\n    </tr>\n  </tbody>\n</table>\n<p>2751 rows × 9 columns</p>\n</div>"
     },
     "metadata": {},
     "execution_count": 13
    }
   ],
   "source": [
    "# data after the cleaning\n",
    "df"
   ]
  },
  {
   "cell_type": "code",
   "execution_count": 14,
   "metadata": {},
   "outputs": [
    {
     "output_type": "execute_result",
     "data": {
      "text/plain": [
       "       Daily_vaccinations    Vaccinated  People_fully_vaccinated  \\\n",
       "count        2.643000e+03  1.593000e+03             9.850000e+02   \n",
       "mean         1.192178e+05  2.203629e+06             6.386982e+05   \n",
       "std          4.742064e+05  7.700613e+06             2.234265e+06   \n",
       "min          1.000000e+00  0.000000e+00             1.000000e+00   \n",
       "25%          1.472500e+03  2.850000e+04             5.815000e+03   \n",
       "50%          7.633000e+03  1.676120e+05             2.518500e+04   \n",
       "75%          5.303950e+04  7.689500e+05             1.984780e+05   \n",
       "max          6.177076e+06  7.863420e+07             2.337762e+07   \n",
       "\n",
       "       Total_vaccinations  Total_vaccinations_per_hundred  \\\n",
       "count        1.902000e+03                     1902.000000   \n",
       "mean         2.937995e+06                        4.859227   \n",
       "std          1.255781e+07                        9.417360   \n",
       "min          0.000000e+00                        0.000000   \n",
       "25%          2.904400e+04                        0.450000   \n",
       "50%          1.771025e+05                        1.810000   \n",
       "75%          9.574458e+05                        4.130000   \n",
       "max          1.600708e+08                       71.190000   \n",
       "\n",
       "       People_vaccinated_per_hundred  People_fully_vaccinated_per_hundred  \n",
       "count                    1593.000000                           985.000000  \n",
       "mean                        4.268468                             1.215147  \n",
       "std                         7.431174                             3.413561  \n",
       "min                         0.000000                             0.000000  \n",
       "25%                         0.470000                             0.070000  \n",
       "50%                         1.900000                             0.380000  \n",
       "75%                         3.330000                             0.980000  \n",
       "max                        45.300000                            27.690000  "
      ],
      "text/html": "<div>\n<style scoped>\n    .dataframe tbody tr th:only-of-type {\n        vertical-align: middle;\n    }\n\n    .dataframe tbody tr th {\n        vertical-align: top;\n    }\n\n    .dataframe thead th {\n        text-align: right;\n    }\n</style>\n<table border=\"1\" class=\"dataframe\">\n  <thead>\n    <tr style=\"text-align: right;\">\n      <th></th>\n      <th>Daily_vaccinations</th>\n      <th>Vaccinated</th>\n      <th>People_fully_vaccinated</th>\n      <th>Total_vaccinations</th>\n      <th>Total_vaccinations_per_hundred</th>\n      <th>People_vaccinated_per_hundred</th>\n      <th>People_fully_vaccinated_per_hundred</th>\n    </tr>\n  </thead>\n  <tbody>\n    <tr>\n      <th>count</th>\n      <td>2.643000e+03</td>\n      <td>1.593000e+03</td>\n      <td>9.850000e+02</td>\n      <td>1.902000e+03</td>\n      <td>1902.000000</td>\n      <td>1593.000000</td>\n      <td>985.000000</td>\n    </tr>\n    <tr>\n      <th>mean</th>\n      <td>1.192178e+05</td>\n      <td>2.203629e+06</td>\n      <td>6.386982e+05</td>\n      <td>2.937995e+06</td>\n      <td>4.859227</td>\n      <td>4.268468</td>\n      <td>1.215147</td>\n    </tr>\n    <tr>\n      <th>std</th>\n      <td>4.742064e+05</td>\n      <td>7.700613e+06</td>\n      <td>2.234265e+06</td>\n      <td>1.255781e+07</td>\n      <td>9.417360</td>\n      <td>7.431174</td>\n      <td>3.413561</td>\n    </tr>\n    <tr>\n      <th>min</th>\n      <td>1.000000e+00</td>\n      <td>0.000000e+00</td>\n      <td>1.000000e+00</td>\n      <td>0.000000e+00</td>\n      <td>0.000000</td>\n      <td>0.000000</td>\n      <td>0.000000</td>\n    </tr>\n    <tr>\n      <th>25%</th>\n      <td>1.472500e+03</td>\n      <td>2.850000e+04</td>\n      <td>5.815000e+03</td>\n      <td>2.904400e+04</td>\n      <td>0.450000</td>\n      <td>0.470000</td>\n      <td>0.070000</td>\n    </tr>\n    <tr>\n      <th>50%</th>\n      <td>7.633000e+03</td>\n      <td>1.676120e+05</td>\n      <td>2.518500e+04</td>\n      <td>1.771025e+05</td>\n      <td>1.810000</td>\n      <td>1.900000</td>\n      <td>0.380000</td>\n    </tr>\n    <tr>\n      <th>75%</th>\n      <td>5.303950e+04</td>\n      <td>7.689500e+05</td>\n      <td>1.984780e+05</td>\n      <td>9.574458e+05</td>\n      <td>4.130000</td>\n      <td>3.330000</td>\n      <td>0.980000</td>\n    </tr>\n    <tr>\n      <th>max</th>\n      <td>6.177076e+06</td>\n      <td>7.863420e+07</td>\n      <td>2.337762e+07</td>\n      <td>1.600708e+08</td>\n      <td>71.190000</td>\n      <td>45.300000</td>\n      <td>27.690000</td>\n    </tr>\n  </tbody>\n</table>\n</div>"
     },
     "metadata": {},
     "execution_count": 14
    }
   ],
   "source": [
    "df.describe()"
   ]
  },
  {
   "cell_type": "markdown",
   "metadata": {},
   "source": [
    "## World New Cases Data\n",
    "To clean the **world new cases** data, the dates are formatted using the `to_datetime()` function from `pandas`, the dates before 2020-12-13 (the start date that has vaccinations reported) are not included, and the rows where all the columns have missing data are dropped."
   ]
  },
  {
   "cell_type": "code",
   "execution_count": 15,
   "metadata": {},
   "outputs": [],
   "source": [
    "# Import world new cases data\n",
    "new_cases = pd.read_csv(\"https://raw.githubusercontent.com/zic115/covid-19-data/master/public/data/jhu/new_cases.csv\")"
   ]
  },
  {
   "cell_type": "code",
   "execution_count": 16,
   "metadata": {},
   "outputs": [],
   "source": [
    "# Change \"date\" to \"Date\"\n",
    "new_cases = new_cases.rename(columns = {\"date\":\"Date\"})\n",
    "# Format the dates\n",
    "new_cases[\"Date\"] = pd.to_datetime(new_cases[\"Date\"])"
   ]
  },
  {
   "cell_type": "code",
   "execution_count": 17,
   "metadata": {},
   "outputs": [],
   "source": [
    "# Include only dates after 2020-12-13 (inclusive) and reset index\n",
    "new_cases = new_cases[new_cases[\"Date\"] >= \"2020-12-13\"].reset_index(drop = True)"
   ]
  },
  {
   "cell_type": "code",
   "execution_count": 18,
   "metadata": {},
   "outputs": [],
   "source": [
    "# Drop rows where all the columns have missing data\n",
    "new_cases = new_cases.dropna(how = \"all\")"
   ]
  },
  {
   "cell_type": "code",
   "execution_count": 19,
   "metadata": {},
   "outputs": [
    {
     "output_type": "execute_result",
     "data": {
      "text/plain": [
       "        Date     World  Afghanistan   Africa  Albania  Algeria  Andorra  \\\n",
       "0 2020-12-13  544274.0        298.0  16222.0    788.0    464.0     50.0   \n",
       "1 2020-12-14  523954.0        191.0  11318.0    661.0    495.0     44.0   \n",
       "2 2020-12-15  636389.0        234.0  18002.0    809.0    468.0      0.0   \n",
       "3 2020-12-16  732766.0        209.0  21225.0    637.0    442.0     64.0   \n",
       "4 2020-12-17  738690.0        217.0  20508.0    787.0    426.0     20.0   \n",
       "\n",
       "   Angola  Antigua and Barbuda  Argentina  ...  United States  Uruguay  \\\n",
       "0    27.0                  0.0     3558.0  ...       187429.0    528.0   \n",
       "1    89.0                  0.0     5062.0  ...       193151.0    321.0   \n",
       "2    85.0                  0.0     6981.0  ...       209189.0    389.0   \n",
       "3    45.0                  3.0     6843.0  ...       245740.0    475.0   \n",
       "4    77.0                  0.0     7326.0  ...       239077.0    543.0   \n",
       "\n",
       "   Uzbekistan  Vanuatu  Vatican  Venezuela  Vietnam  Yemen  Zambia  Zimbabwe  \n",
       "0       145.0      0.0      0.0      609.0      2.0    0.0    57.0      27.0  \n",
       "1       138.0      0.0      0.0      339.0      5.0    1.0    48.0     112.0  \n",
       "2       147.0      0.0      0.0      355.0      3.0    1.0   106.0     164.0  \n",
       "3       297.0      0.0      0.0      237.0      0.0    0.0    28.0     227.0  \n",
       "4         0.0      0.0      0.0      364.0      2.0    2.0    48.0     117.0  \n",
       "\n",
       "[5 rows x 200 columns]"
      ],
      "text/html": "<div>\n<style scoped>\n    .dataframe tbody tr th:only-of-type {\n        vertical-align: middle;\n    }\n\n    .dataframe tbody tr th {\n        vertical-align: top;\n    }\n\n    .dataframe thead th {\n        text-align: right;\n    }\n</style>\n<table border=\"1\" class=\"dataframe\">\n  <thead>\n    <tr style=\"text-align: right;\">\n      <th></th>\n      <th>Date</th>\n      <th>World</th>\n      <th>Afghanistan</th>\n      <th>Africa</th>\n      <th>Albania</th>\n      <th>Algeria</th>\n      <th>Andorra</th>\n      <th>Angola</th>\n      <th>Antigua and Barbuda</th>\n      <th>Argentina</th>\n      <th>...</th>\n      <th>United States</th>\n      <th>Uruguay</th>\n      <th>Uzbekistan</th>\n      <th>Vanuatu</th>\n      <th>Vatican</th>\n      <th>Venezuela</th>\n      <th>Vietnam</th>\n      <th>Yemen</th>\n      <th>Zambia</th>\n      <th>Zimbabwe</th>\n    </tr>\n  </thead>\n  <tbody>\n    <tr>\n      <th>0</th>\n      <td>2020-12-13</td>\n      <td>544274.0</td>\n      <td>298.0</td>\n      <td>16222.0</td>\n      <td>788.0</td>\n      <td>464.0</td>\n      <td>50.0</td>\n      <td>27.0</td>\n      <td>0.0</td>\n      <td>3558.0</td>\n      <td>...</td>\n      <td>187429.0</td>\n      <td>528.0</td>\n      <td>145.0</td>\n      <td>0.0</td>\n      <td>0.0</td>\n      <td>609.0</td>\n      <td>2.0</td>\n      <td>0.0</td>\n      <td>57.0</td>\n      <td>27.0</td>\n    </tr>\n    <tr>\n      <th>1</th>\n      <td>2020-12-14</td>\n      <td>523954.0</td>\n      <td>191.0</td>\n      <td>11318.0</td>\n      <td>661.0</td>\n      <td>495.0</td>\n      <td>44.0</td>\n      <td>89.0</td>\n      <td>0.0</td>\n      <td>5062.0</td>\n      <td>...</td>\n      <td>193151.0</td>\n      <td>321.0</td>\n      <td>138.0</td>\n      <td>0.0</td>\n      <td>0.0</td>\n      <td>339.0</td>\n      <td>5.0</td>\n      <td>1.0</td>\n      <td>48.0</td>\n      <td>112.0</td>\n    </tr>\n    <tr>\n      <th>2</th>\n      <td>2020-12-15</td>\n      <td>636389.0</td>\n      <td>234.0</td>\n      <td>18002.0</td>\n      <td>809.0</td>\n      <td>468.0</td>\n      <td>0.0</td>\n      <td>85.0</td>\n      <td>0.0</td>\n      <td>6981.0</td>\n      <td>...</td>\n      <td>209189.0</td>\n      <td>389.0</td>\n      <td>147.0</td>\n      <td>0.0</td>\n      <td>0.0</td>\n      <td>355.0</td>\n      <td>3.0</td>\n      <td>1.0</td>\n      <td>106.0</td>\n      <td>164.0</td>\n    </tr>\n    <tr>\n      <th>3</th>\n      <td>2020-12-16</td>\n      <td>732766.0</td>\n      <td>209.0</td>\n      <td>21225.0</td>\n      <td>637.0</td>\n      <td>442.0</td>\n      <td>64.0</td>\n      <td>45.0</td>\n      <td>3.0</td>\n      <td>6843.0</td>\n      <td>...</td>\n      <td>245740.0</td>\n      <td>475.0</td>\n      <td>297.0</td>\n      <td>0.0</td>\n      <td>0.0</td>\n      <td>237.0</td>\n      <td>0.0</td>\n      <td>0.0</td>\n      <td>28.0</td>\n      <td>227.0</td>\n    </tr>\n    <tr>\n      <th>4</th>\n      <td>2020-12-17</td>\n      <td>738690.0</td>\n      <td>217.0</td>\n      <td>20508.0</td>\n      <td>787.0</td>\n      <td>426.0</td>\n      <td>20.0</td>\n      <td>77.0</td>\n      <td>0.0</td>\n      <td>7326.0</td>\n      <td>...</td>\n      <td>239077.0</td>\n      <td>543.0</td>\n      <td>0.0</td>\n      <td>0.0</td>\n      <td>0.0</td>\n      <td>364.0</td>\n      <td>2.0</td>\n      <td>2.0</td>\n      <td>48.0</td>\n      <td>117.0</td>\n    </tr>\n  </tbody>\n</table>\n<p>5 rows × 200 columns</p>\n</div>"
     },
     "metadata": {},
     "execution_count": 19
    }
   ],
   "source": [
    "# Take a look at new_cases after cleaning\n",
    "new_cases.head()"
   ]
  },
  {
   "cell_type": "code",
   "execution_count": 20,
   "metadata": {},
   "outputs": [
    {
     "output_type": "execute_result",
     "data": {
      "text/plain": [
       "(60, 200)"
      ]
     },
     "metadata": {},
     "execution_count": 20
    }
   ],
   "source": [
    "# Determine the shape\n",
    "new_cases.shape"
   ]
  },
  {
   "cell_type": "code",
   "execution_count": 21,
   "metadata": {},
   "outputs": [
    {
     "output_type": "execute_result",
     "data": {
      "text/plain": [
       "Index(['Date', 'World', 'Afghanistan', 'Africa', 'Albania', 'Algeria',\n",
       "       'Andorra', 'Angola', 'Antigua and Barbuda', 'Argentina',\n",
       "       ...\n",
       "       'United States', 'Uruguay', 'Uzbekistan', 'Vanuatu', 'Vatican',\n",
       "       'Venezuela', 'Vietnam', 'Yemen', 'Zambia', 'Zimbabwe'],\n",
       "      dtype='object', length=200)"
      ]
     },
     "metadata": {},
     "execution_count": 21
    }
   ],
   "source": [
    "# Determine the column names\n",
    "new_cases.columns"
   ]
  },
  {
   "cell_type": "code",
   "execution_count": 22,
   "metadata": {},
   "outputs": [
    {
     "output_type": "execute_result",
     "data": {
      "text/plain": [
       "               World  Afghanistan        Africa      Albania     Algeria  \\\n",
       "count      60.000000    60.000000     60.000000    60.000000   60.000000   \n",
       "mean   591235.183333   119.550000  22384.850000   682.150000  302.400000   \n",
       "std    123315.532909   194.260914   6903.109564   245.278246   96.428106   \n",
       "min    315510.000000     0.000000  11318.000000     0.000000    0.000000   \n",
       "25%    514223.000000    46.000000  16759.500000   538.000000  244.500000   \n",
       "50%    589404.000000    76.500000  21242.500000   660.500000  262.500000   \n",
       "75%    692467.250000   141.000000  27373.000000   867.750000  396.500000   \n",
       "max    858062.000000  1485.000000  36473.000000  1239.000000  495.000000   \n",
       "\n",
       "          Andorra      Angola  Antigua and Barbuda     Argentina      Armenia  \\\n",
       "count   60.000000   60.000000            60.000000     60.000000    60.000000   \n",
       "mean    51.066667   67.483333             3.366667   8440.533333   353.066667   \n",
       "std     30.371076   32.853291             6.305679   3135.294269   267.908084   \n",
       "min      0.000000   14.000000             0.000000      0.000000    58.000000   \n",
       "25%     35.000000   41.500000             0.000000   6431.500000   157.750000   \n",
       "50%     48.500000   68.000000             0.500000   8203.500000   285.000000   \n",
       "75%     64.000000   89.000000             3.000000  10896.500000   457.250000   \n",
       "max    141.000000  188.000000            34.000000  13835.000000  1174.000000   \n",
       "\n",
       "       ...  United States      Uruguay  Uzbekistan  Vanuatu  Vatican  \\\n",
       "count  ...      60.000000    60.000000   60.000000     60.0     60.0   \n",
       "mean   ...  184422.850000   626.633333   73.766667      0.0      0.0   \n",
       "std    ...   52755.620332   211.502852   49.031766      0.0      0.0   \n",
       "min    ...   89581.000000   321.000000    0.000000      0.0      0.0   \n",
       "25%    ...  145599.000000   509.750000   45.750000      0.0      0.0   \n",
       "50%    ...  188790.500000   586.000000   59.500000      0.0      0.0   \n",
       "75%    ...  227323.250000   683.000000  100.750000      0.0      0.0   \n",
       "max    ...  300282.000000  1514.000000  297.000000      0.0      0.0   \n",
       "\n",
       "        Venezuela     Vietnam      Yemen       Zambia     Zimbabwe  \n",
       "count   60.000000   60.000000  60.000000    60.000000    60.000000  \n",
       "mean   404.983333   11.600000   0.833333   789.266667   394.083333  \n",
       "std    121.651000   21.693708   1.122447   555.316488   330.767740  \n",
       "min    147.000000    0.000000   0.000000    28.000000    27.000000  \n",
       "25%    324.500000    1.000000   0.000000   233.750000   122.750000  \n",
       "50%    412.000000    3.000000   0.000000   857.500000   283.000000  \n",
       "75%    474.750000    9.250000   1.250000  1260.250000   651.500000  \n",
       "max    673.000000  110.000000   5.000000  1796.000000  1365.000000  \n",
       "\n",
       "[8 rows x 199 columns]"
      ],
      "text/html": "<div>\n<style scoped>\n    .dataframe tbody tr th:only-of-type {\n        vertical-align: middle;\n    }\n\n    .dataframe tbody tr th {\n        vertical-align: top;\n    }\n\n    .dataframe thead th {\n        text-align: right;\n    }\n</style>\n<table border=\"1\" class=\"dataframe\">\n  <thead>\n    <tr style=\"text-align: right;\">\n      <th></th>\n      <th>World</th>\n      <th>Afghanistan</th>\n      <th>Africa</th>\n      <th>Albania</th>\n      <th>Algeria</th>\n      <th>Andorra</th>\n      <th>Angola</th>\n      <th>Antigua and Barbuda</th>\n      <th>Argentina</th>\n      <th>Armenia</th>\n      <th>...</th>\n      <th>United States</th>\n      <th>Uruguay</th>\n      <th>Uzbekistan</th>\n      <th>Vanuatu</th>\n      <th>Vatican</th>\n      <th>Venezuela</th>\n      <th>Vietnam</th>\n      <th>Yemen</th>\n      <th>Zambia</th>\n      <th>Zimbabwe</th>\n    </tr>\n  </thead>\n  <tbody>\n    <tr>\n      <th>count</th>\n      <td>60.000000</td>\n      <td>60.000000</td>\n      <td>60.000000</td>\n      <td>60.000000</td>\n      <td>60.000000</td>\n      <td>60.000000</td>\n      <td>60.000000</td>\n      <td>60.000000</td>\n      <td>60.000000</td>\n      <td>60.000000</td>\n      <td>...</td>\n      <td>60.000000</td>\n      <td>60.000000</td>\n      <td>60.000000</td>\n      <td>60.0</td>\n      <td>60.0</td>\n      <td>60.000000</td>\n      <td>60.000000</td>\n      <td>60.000000</td>\n      <td>60.000000</td>\n      <td>60.000000</td>\n    </tr>\n    <tr>\n      <th>mean</th>\n      <td>591235.183333</td>\n      <td>119.550000</td>\n      <td>22384.850000</td>\n      <td>682.150000</td>\n      <td>302.400000</td>\n      <td>51.066667</td>\n      <td>67.483333</td>\n      <td>3.366667</td>\n      <td>8440.533333</td>\n      <td>353.066667</td>\n      <td>...</td>\n      <td>184422.850000</td>\n      <td>626.633333</td>\n      <td>73.766667</td>\n      <td>0.0</td>\n      <td>0.0</td>\n      <td>404.983333</td>\n      <td>11.600000</td>\n      <td>0.833333</td>\n      <td>789.266667</td>\n      <td>394.083333</td>\n    </tr>\n    <tr>\n      <th>std</th>\n      <td>123315.532909</td>\n      <td>194.260914</td>\n      <td>6903.109564</td>\n      <td>245.278246</td>\n      <td>96.428106</td>\n      <td>30.371076</td>\n      <td>32.853291</td>\n      <td>6.305679</td>\n      <td>3135.294269</td>\n      <td>267.908084</td>\n      <td>...</td>\n      <td>52755.620332</td>\n      <td>211.502852</td>\n      <td>49.031766</td>\n      <td>0.0</td>\n      <td>0.0</td>\n      <td>121.651000</td>\n      <td>21.693708</td>\n      <td>1.122447</td>\n      <td>555.316488</td>\n      <td>330.767740</td>\n    </tr>\n    <tr>\n      <th>min</th>\n      <td>315510.000000</td>\n      <td>0.000000</td>\n      <td>11318.000000</td>\n      <td>0.000000</td>\n      <td>0.000000</td>\n      <td>0.000000</td>\n      <td>14.000000</td>\n      <td>0.000000</td>\n      <td>0.000000</td>\n      <td>58.000000</td>\n      <td>...</td>\n      <td>89581.000000</td>\n      <td>321.000000</td>\n      <td>0.000000</td>\n      <td>0.0</td>\n      <td>0.0</td>\n      <td>147.000000</td>\n      <td>0.000000</td>\n      <td>0.000000</td>\n      <td>28.000000</td>\n      <td>27.000000</td>\n    </tr>\n    <tr>\n      <th>25%</th>\n      <td>514223.000000</td>\n      <td>46.000000</td>\n      <td>16759.500000</td>\n      <td>538.000000</td>\n      <td>244.500000</td>\n      <td>35.000000</td>\n      <td>41.500000</td>\n      <td>0.000000</td>\n      <td>6431.500000</td>\n      <td>157.750000</td>\n      <td>...</td>\n      <td>145599.000000</td>\n      <td>509.750000</td>\n      <td>45.750000</td>\n      <td>0.0</td>\n      <td>0.0</td>\n      <td>324.500000</td>\n      <td>1.000000</td>\n      <td>0.000000</td>\n      <td>233.750000</td>\n      <td>122.750000</td>\n    </tr>\n    <tr>\n      <th>50%</th>\n      <td>589404.000000</td>\n      <td>76.500000</td>\n      <td>21242.500000</td>\n      <td>660.500000</td>\n      <td>262.500000</td>\n      <td>48.500000</td>\n      <td>68.000000</td>\n      <td>0.500000</td>\n      <td>8203.500000</td>\n      <td>285.000000</td>\n      <td>...</td>\n      <td>188790.500000</td>\n      <td>586.000000</td>\n      <td>59.500000</td>\n      <td>0.0</td>\n      <td>0.0</td>\n      <td>412.000000</td>\n      <td>3.000000</td>\n      <td>0.000000</td>\n      <td>857.500000</td>\n      <td>283.000000</td>\n    </tr>\n    <tr>\n      <th>75%</th>\n      <td>692467.250000</td>\n      <td>141.000000</td>\n      <td>27373.000000</td>\n      <td>867.750000</td>\n      <td>396.500000</td>\n      <td>64.000000</td>\n      <td>89.000000</td>\n      <td>3.000000</td>\n      <td>10896.500000</td>\n      <td>457.250000</td>\n      <td>...</td>\n      <td>227323.250000</td>\n      <td>683.000000</td>\n      <td>100.750000</td>\n      <td>0.0</td>\n      <td>0.0</td>\n      <td>474.750000</td>\n      <td>9.250000</td>\n      <td>1.250000</td>\n      <td>1260.250000</td>\n      <td>651.500000</td>\n    </tr>\n    <tr>\n      <th>max</th>\n      <td>858062.000000</td>\n      <td>1485.000000</td>\n      <td>36473.000000</td>\n      <td>1239.000000</td>\n      <td>495.000000</td>\n      <td>141.000000</td>\n      <td>188.000000</td>\n      <td>34.000000</td>\n      <td>13835.000000</td>\n      <td>1174.000000</td>\n      <td>...</td>\n      <td>300282.000000</td>\n      <td>1514.000000</td>\n      <td>297.000000</td>\n      <td>0.0</td>\n      <td>0.0</td>\n      <td>673.000000</td>\n      <td>110.000000</td>\n      <td>5.000000</td>\n      <td>1796.000000</td>\n      <td>1365.000000</td>\n    </tr>\n  </tbody>\n</table>\n<p>8 rows × 199 columns</p>\n</div>"
     },
     "metadata": {},
     "execution_count": 22
    }
   ],
   "source": [
    "# Describe the statistics\n",
    "new_cases.describe()"
   ]
  },
  {
   "cell_type": "markdown",
   "metadata": {},
   "source": [
    "## Weekly Data\n",
    "for the weekly data, if a row has only missing values and if a row or a column have nearly all missing values in it (in this case, it means the rows/columns that have over 2/3 missing values out of the total), we will drop it. Also, to compare the different dataset more easily, we will only include the data with the dates that the other datasets have too."
   ]
  },
  {
   "cell_type": "code",
   "execution_count": 28,
   "metadata": {},
   "outputs": [
    {
     "output_type": "execute_result",
     "data": {
      "text/plain": [
       "            World  Afghanistan  Africa  Albania  Algeria  Andorra  Angola  \\\n",
       "date                                                                        \n",
       "2020-01-22    NaN          NaN     NaN      NaN      NaN      NaN     NaN   \n",
       "2020-01-23    NaN          NaN     NaN      NaN      NaN      NaN     NaN   \n",
       "2020-01-24    NaN          NaN     NaN      NaN      NaN      NaN     NaN   \n",
       "2020-01-25    NaN          NaN     NaN      NaN      NaN      NaN     NaN   \n",
       "2020-01-26    NaN          NaN     NaN      NaN      NaN      NaN     NaN   \n",
       "\n",
       "            Antigua and Barbuda  Argentina  Armenia  ...  United States  \\\n",
       "date                                                 ...                  \n",
       "2020-01-22                  NaN        NaN      NaN  ...            NaN   \n",
       "2020-01-23                  NaN        NaN      NaN  ...            NaN   \n",
       "2020-01-24                  NaN        NaN      NaN  ...            NaN   \n",
       "2020-01-25                  NaN        NaN      NaN  ...            NaN   \n",
       "2020-01-26                  NaN        NaN      NaN  ...            NaN   \n",
       "\n",
       "            Uruguay  Uzbekistan  Vanuatu  Vatican  Venezuela  Vietnam  Yemen  \\\n",
       "date                                                                           \n",
       "2020-01-22      NaN         NaN      NaN      NaN        NaN      NaN    NaN   \n",
       "2020-01-23      NaN         NaN      NaN      NaN        NaN      NaN    NaN   \n",
       "2020-01-24      NaN         NaN      NaN      NaN        NaN      NaN    NaN   \n",
       "2020-01-25      NaN         NaN      NaN      NaN        NaN      NaN    NaN   \n",
       "2020-01-26      NaN         NaN      NaN      NaN        NaN      NaN    NaN   \n",
       "\n",
       "            Zambia  Zimbabwe  \n",
       "date                          \n",
       "2020-01-22     NaN       NaN  \n",
       "2020-01-23     NaN       NaN  \n",
       "2020-01-24     NaN       NaN  \n",
       "2020-01-25     NaN       NaN  \n",
       "2020-01-26     NaN       NaN  \n",
       "\n",
       "[5 rows x 199 columns]"
      ],
      "text/html": "<div>\n<style scoped>\n    .dataframe tbody tr th:only-of-type {\n        vertical-align: middle;\n    }\n\n    .dataframe tbody tr th {\n        vertical-align: top;\n    }\n\n    .dataframe thead th {\n        text-align: right;\n    }\n</style>\n<table border=\"1\" class=\"dataframe\">\n  <thead>\n    <tr style=\"text-align: right;\">\n      <th></th>\n      <th>World</th>\n      <th>Afghanistan</th>\n      <th>Africa</th>\n      <th>Albania</th>\n      <th>Algeria</th>\n      <th>Andorra</th>\n      <th>Angola</th>\n      <th>Antigua and Barbuda</th>\n      <th>Argentina</th>\n      <th>Armenia</th>\n      <th>...</th>\n      <th>United States</th>\n      <th>Uruguay</th>\n      <th>Uzbekistan</th>\n      <th>Vanuatu</th>\n      <th>Vatican</th>\n      <th>Venezuela</th>\n      <th>Vietnam</th>\n      <th>Yemen</th>\n      <th>Zambia</th>\n      <th>Zimbabwe</th>\n    </tr>\n    <tr>\n      <th>date</th>\n      <th></th>\n      <th></th>\n      <th></th>\n      <th></th>\n      <th></th>\n      <th></th>\n      <th></th>\n      <th></th>\n      <th></th>\n      <th></th>\n      <th></th>\n      <th></th>\n      <th></th>\n      <th></th>\n      <th></th>\n      <th></th>\n      <th></th>\n      <th></th>\n      <th></th>\n      <th></th>\n      <th></th>\n    </tr>\n  </thead>\n  <tbody>\n    <tr>\n      <th>2020-01-22</th>\n      <td>NaN</td>\n      <td>NaN</td>\n      <td>NaN</td>\n      <td>NaN</td>\n      <td>NaN</td>\n      <td>NaN</td>\n      <td>NaN</td>\n      <td>NaN</td>\n      <td>NaN</td>\n      <td>NaN</td>\n      <td>...</td>\n      <td>NaN</td>\n      <td>NaN</td>\n      <td>NaN</td>\n      <td>NaN</td>\n      <td>NaN</td>\n      <td>NaN</td>\n      <td>NaN</td>\n      <td>NaN</td>\n      <td>NaN</td>\n      <td>NaN</td>\n    </tr>\n    <tr>\n      <th>2020-01-23</th>\n      <td>NaN</td>\n      <td>NaN</td>\n      <td>NaN</td>\n      <td>NaN</td>\n      <td>NaN</td>\n      <td>NaN</td>\n      <td>NaN</td>\n      <td>NaN</td>\n      <td>NaN</td>\n      <td>NaN</td>\n      <td>...</td>\n      <td>NaN</td>\n      <td>NaN</td>\n      <td>NaN</td>\n      <td>NaN</td>\n      <td>NaN</td>\n      <td>NaN</td>\n      <td>NaN</td>\n      <td>NaN</td>\n      <td>NaN</td>\n      <td>NaN</td>\n    </tr>\n    <tr>\n      <th>2020-01-24</th>\n      <td>NaN</td>\n      <td>NaN</td>\n      <td>NaN</td>\n      <td>NaN</td>\n      <td>NaN</td>\n      <td>NaN</td>\n      <td>NaN</td>\n      <td>NaN</td>\n      <td>NaN</td>\n      <td>NaN</td>\n      <td>...</td>\n      <td>NaN</td>\n      <td>NaN</td>\n      <td>NaN</td>\n      <td>NaN</td>\n      <td>NaN</td>\n      <td>NaN</td>\n      <td>NaN</td>\n      <td>NaN</td>\n      <td>NaN</td>\n      <td>NaN</td>\n    </tr>\n    <tr>\n      <th>2020-01-25</th>\n      <td>NaN</td>\n      <td>NaN</td>\n      <td>NaN</td>\n      <td>NaN</td>\n      <td>NaN</td>\n      <td>NaN</td>\n      <td>NaN</td>\n      <td>NaN</td>\n      <td>NaN</td>\n      <td>NaN</td>\n      <td>...</td>\n      <td>NaN</td>\n      <td>NaN</td>\n      <td>NaN</td>\n      <td>NaN</td>\n      <td>NaN</td>\n      <td>NaN</td>\n      <td>NaN</td>\n      <td>NaN</td>\n      <td>NaN</td>\n      <td>NaN</td>\n    </tr>\n    <tr>\n      <th>2020-01-26</th>\n      <td>NaN</td>\n      <td>NaN</td>\n      <td>NaN</td>\n      <td>NaN</td>\n      <td>NaN</td>\n      <td>NaN</td>\n      <td>NaN</td>\n      <td>NaN</td>\n      <td>NaN</td>\n      <td>NaN</td>\n      <td>...</td>\n      <td>NaN</td>\n      <td>NaN</td>\n      <td>NaN</td>\n      <td>NaN</td>\n      <td>NaN</td>\n      <td>NaN</td>\n      <td>NaN</td>\n      <td>NaN</td>\n      <td>NaN</td>\n      <td>NaN</td>\n    </tr>\n  </tbody>\n</table>\n<p>5 rows × 199 columns</p>\n</div>"
     },
     "metadata": {},
     "execution_count": 28
    }
   ],
   "source": [
    "# Import the weekly data\n",
    "weekly_data = pd.read_csv(\"https://raw.githubusercontent.com/owid/covid-19-data/master/public/data/jhu/biweekly_cases.csv\", index_col=0)\n",
    "weekly_data.head()"
   ]
  },
  {
   "cell_type": "code",
   "execution_count": 24,
   "metadata": {},
   "outputs": [],
   "source": [
    "# Drop rows where all the columns have missing data, and the rows/columns that too little amount of values\n",
    "weekly_data = weekly_data.dropna(how = 'all')\n",
    "weekly_data = weekly_data.dropna(thresh = 128, axis = 1 )\n",
    "weekly_data = weekly_data.dropna(thresh = 66)"
   ]
  },
  {
   "cell_type": "code",
   "execution_count": 25,
   "metadata": {},
   "outputs": [],
   "source": [
    "# Drop rows that are not between 2020-12-13 and 2021-02-10\n",
    "weekly_data = weekly_data.loc['2020-12-13':'2021-02-10']"
   ]
  },
  {
   "cell_type": "code",
   "execution_count": 27,
   "metadata": {},
   "outputs": [
    {
     "output_type": "execute_result",
     "data": {
      "text/plain": [
       "                World  Afghanistan    Africa  Albania  Algeria  Andorra  \\\n",
       "date                                                                      \n",
       "2020-12-13  8699168.0       2411.0  215301.0  10905.0   9881.0    626.0   \n",
       "2020-12-14  8715001.0       2444.0  216269.0  11009.0   9398.0    637.0   \n",
       "2020-12-15  8739464.0       2436.0  223433.0  10986.0   8913.0    592.0   \n",
       "2020-12-16  8821714.0       2443.0  228245.0  10918.0   8423.0    604.0   \n",
       "2020-12-17  8867595.0       2541.0  233052.0  10923.0   8006.0    562.0   \n",
       "\n",
       "            Angola  Antigua and Barbuda  Argentina  Armenia  ...  \\\n",
       "date                                                         ...   \n",
       "2020-12-13  1085.0                  7.0    79353.0  13557.0  ...   \n",
       "2020-12-14  1138.0                  7.0    78689.0  13558.0  ...   \n",
       "2020-12-15  1111.0                  6.0    77633.0  13153.0  ...   \n",
       "2020-12-16  1088.0                  7.0    76943.0  12987.0  ...   \n",
       "2020-12-17  1123.0                  7.0    76640.0  12884.0  ...   \n",
       "\n",
       "            United Kingdom  United States  Uruguay  Uzbekistan  Vatican  \\\n",
       "date                                                                      \n",
       "2020-12-13        233185.0      2912731.0   3992.0      2086.0      0.0   \n",
       "2020-12-14        241134.0      2945649.0   4172.0      2000.0      0.0   \n",
       "2020-12-15        246206.0      2967326.0   4394.0      1965.0      0.0   \n",
       "2020-12-16        255269.0      3011194.0   4668.0      2203.0      0.0   \n",
       "2020-12-17        275850.0      3027989.0   4981.0      2107.0      0.0   \n",
       "\n",
       "            Venezuela  Vietnam  Yemen  Zambia  Zimbabwe  \n",
       "date                                                     \n",
       "2020-12-13     5746.0     54.0    6.0   666.0    1424.0  \n",
       "2020-12-14     5731.0     55.0    7.0   675.0    1408.0  \n",
       "2020-12-15     5859.0     54.0    8.0   763.0    1393.0  \n",
       "2020-12-16     5650.0     47.0    8.0   756.0    1620.0  \n",
       "2020-12-17     5533.0     46.0   10.0   774.0    1442.0  \n",
       "\n",
       "[5 rows x 194 columns]"
      ],
      "text/html": "<div>\n<style scoped>\n    .dataframe tbody tr th:only-of-type {\n        vertical-align: middle;\n    }\n\n    .dataframe tbody tr th {\n        vertical-align: top;\n    }\n\n    .dataframe thead th {\n        text-align: right;\n    }\n</style>\n<table border=\"1\" class=\"dataframe\">\n  <thead>\n    <tr style=\"text-align: right;\">\n      <th></th>\n      <th>World</th>\n      <th>Afghanistan</th>\n      <th>Africa</th>\n      <th>Albania</th>\n      <th>Algeria</th>\n      <th>Andorra</th>\n      <th>Angola</th>\n      <th>Antigua and Barbuda</th>\n      <th>Argentina</th>\n      <th>Armenia</th>\n      <th>...</th>\n      <th>United Kingdom</th>\n      <th>United States</th>\n      <th>Uruguay</th>\n      <th>Uzbekistan</th>\n      <th>Vatican</th>\n      <th>Venezuela</th>\n      <th>Vietnam</th>\n      <th>Yemen</th>\n      <th>Zambia</th>\n      <th>Zimbabwe</th>\n    </tr>\n    <tr>\n      <th>date</th>\n      <th></th>\n      <th></th>\n      <th></th>\n      <th></th>\n      <th></th>\n      <th></th>\n      <th></th>\n      <th></th>\n      <th></th>\n      <th></th>\n      <th></th>\n      <th></th>\n      <th></th>\n      <th></th>\n      <th></th>\n      <th></th>\n      <th></th>\n      <th></th>\n      <th></th>\n      <th></th>\n      <th></th>\n    </tr>\n  </thead>\n  <tbody>\n    <tr>\n      <th>2020-12-13</th>\n      <td>8699168.0</td>\n      <td>2411.0</td>\n      <td>215301.0</td>\n      <td>10905.0</td>\n      <td>9881.0</td>\n      <td>626.0</td>\n      <td>1085.0</td>\n      <td>7.0</td>\n      <td>79353.0</td>\n      <td>13557.0</td>\n      <td>...</td>\n      <td>233185.0</td>\n      <td>2912731.0</td>\n      <td>3992.0</td>\n      <td>2086.0</td>\n      <td>0.0</td>\n      <td>5746.0</td>\n      <td>54.0</td>\n      <td>6.0</td>\n      <td>666.0</td>\n      <td>1424.0</td>\n    </tr>\n    <tr>\n      <th>2020-12-14</th>\n      <td>8715001.0</td>\n      <td>2444.0</td>\n      <td>216269.0</td>\n      <td>11009.0</td>\n      <td>9398.0</td>\n      <td>637.0</td>\n      <td>1138.0</td>\n      <td>7.0</td>\n      <td>78689.0</td>\n      <td>13558.0</td>\n      <td>...</td>\n      <td>241134.0</td>\n      <td>2945649.0</td>\n      <td>4172.0</td>\n      <td>2000.0</td>\n      <td>0.0</td>\n      <td>5731.0</td>\n      <td>55.0</td>\n      <td>7.0</td>\n      <td>675.0</td>\n      <td>1408.0</td>\n    </tr>\n    <tr>\n      <th>2020-12-15</th>\n      <td>8739464.0</td>\n      <td>2436.0</td>\n      <td>223433.0</td>\n      <td>10986.0</td>\n      <td>8913.0</td>\n      <td>592.0</td>\n      <td>1111.0</td>\n      <td>6.0</td>\n      <td>77633.0</td>\n      <td>13153.0</td>\n      <td>...</td>\n      <td>246206.0</td>\n      <td>2967326.0</td>\n      <td>4394.0</td>\n      <td>1965.0</td>\n      <td>0.0</td>\n      <td>5859.0</td>\n      <td>54.0</td>\n      <td>8.0</td>\n      <td>763.0</td>\n      <td>1393.0</td>\n    </tr>\n    <tr>\n      <th>2020-12-16</th>\n      <td>8821714.0</td>\n      <td>2443.0</td>\n      <td>228245.0</td>\n      <td>10918.0</td>\n      <td>8423.0</td>\n      <td>604.0</td>\n      <td>1088.0</td>\n      <td>7.0</td>\n      <td>76943.0</td>\n      <td>12987.0</td>\n      <td>...</td>\n      <td>255269.0</td>\n      <td>3011194.0</td>\n      <td>4668.0</td>\n      <td>2203.0</td>\n      <td>0.0</td>\n      <td>5650.0</td>\n      <td>47.0</td>\n      <td>8.0</td>\n      <td>756.0</td>\n      <td>1620.0</td>\n    </tr>\n    <tr>\n      <th>2020-12-17</th>\n      <td>8867595.0</td>\n      <td>2541.0</td>\n      <td>233052.0</td>\n      <td>10923.0</td>\n      <td>8006.0</td>\n      <td>562.0</td>\n      <td>1123.0</td>\n      <td>7.0</td>\n      <td>76640.0</td>\n      <td>12884.0</td>\n      <td>...</td>\n      <td>275850.0</td>\n      <td>3027989.0</td>\n      <td>4981.0</td>\n      <td>2107.0</td>\n      <td>0.0</td>\n      <td>5533.0</td>\n      <td>46.0</td>\n      <td>10.0</td>\n      <td>774.0</td>\n      <td>1442.0</td>\n    </tr>\n  </tbody>\n</table>\n<p>5 rows × 194 columns</p>\n</div>"
     },
     "metadata": {},
     "execution_count": 27
    }
   ],
   "source": [
    "# Data after cleaning\n",
    "weekly_data.head()"
   ]
  },
  {
   "cell_type": "markdown",
   "metadata": {},
   "source": [
    "# Project Proposal (updated)"
   ]
  },
  {
   "cell_type": "markdown",
   "metadata": {},
   "source": [
    "| Meeting Date  | Meeting Time| Completed Before Meeting  | Discuss at Meeting |\n",
    "|---|---|---|---|\n",
    "| 1/14  | 6 PM  | Form a group of four | Edit, finalize, and submit Project Planning Survey (Due 1/15 11:59pm) |\n",
    "| 1/21  | 6 PM  | Review the assigned previous project | Edit, finalize, and submit Previous Project Review (Due 1/22 11:59pm) |\n",
    "| 1/28  |  6 PM | Read & Think about COGS 108 expectations; brainstorm topics/questions/hypothesis; Do background and dataset research; Begin drafting the project proposal; | Edit, finalize, and submit Project Proposal (Due 1/29 11:59pm) | \n",
    "| 2/4  | 6 PM  | Explore the datasets; Think about possible wrangling & analysis approaches | Discuss the approaches; Assign group members to lead each specific part |\n",
    "| 2/11  | 6 PM  | Begin data wrangling | Address any issues encountered; Edit, finalize, and submit Checkpoint #1: Data (Due 2/12 11:59pm) |\n",
    "| 2/18  | 6 PM  | Begin data analysis & results| Address any issues encountered |\n",
    "| 2/25  | 6 PM  | Continue data analysis & results; Begin drafting conclusions/discussions | Address any issues encountered; Edit, finalize, and submit Checkpoint #2: EDA (Due 2/26 11:59pm) |\n",
    "| 3/4  | 6 PM  | Continue drafting conclusions/discussions | Address any issues encountered; Discuss improvements; Plan video recording |\n",
    "| 3/11  | 6 PM  | Prepare scripts for the final video | Record the final video |\n",
    "| 3/14  | 6 PM  | Check everything  | Edit, finalize, and submit Final Report, Final Video, and Team Evaluation (Due 3/17 11:59pm) |"
   ]
  }
 ],
 "metadata": {
  "kernelspec": {
   "display_name": "Python 3",
   "language": "python",
   "name": "python3"
  },
  "language_info": {
   "codemirror_mode": {
    "name": "ipython",
    "version": 3
   },
   "file_extension": ".py",
   "mimetype": "text/x-python",
   "name": "python",
   "nbconvert_exporter": "python",
   "pygments_lexer": "ipython3",
   "version": "3.8.5-final"
  }
 },
 "nbformat": 4,
 "nbformat_minor": 2
}